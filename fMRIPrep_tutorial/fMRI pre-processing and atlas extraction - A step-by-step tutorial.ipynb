{
 "cells": [
  {
   "cell_type": "markdown",
   "metadata": {},
   "source": [
    "# fMRI pre-processing and atlas extraction\n",
    "## A step-by-step tutorial\n",
    "________________\n",
    "\n",
    "\n",
    "This project was done during the Brain Hack School 2020 organized by McGill University, University of Montreal, Concordia University and Polytechnique. \n",
    "\n",
    "The goal of this tutorial is to generate functional connectivity matrices from functional magnetic resonance imaging (fMRI) starting from nifti images in BIDS format. The proposed pipeline first uses fMRIPrep to execute the pre-processing. Then, the Nilearn package is used to extract connectivity matrices from the pre-processed images using different brain parcellations. \n",
    "\n",
    "This project will be executed with data from the PREVENT-AD, a dataset of participants at risk of Alzheimer's Disease (AD), available openly on the Canadian Open Neuroscience Platform. We will use fMRI data from 10 participants at two different timepoints, at their baseline visit and at their 12 months visit, to obtain two functional connectivity matrices per participants.\n",
    "________________\n"
   ]
  },
  {
   "cell_type": "markdown",
   "metadata": {},
   "source": [
    "## Breakdown of the tutorial\n",
    "### 1. - Presentation of the data (Prevent-AD / CONP)\n",
    "### 2. - Preparation of the data for fMRIPrep\n",
    "### 3. - Verifying the outputs of the preprocessing\n",
    "### 4. - Preparing the data for Nilearn extraction\n",
    "### 5. - Scripts for HPC processing"
   ]
  },
  {
   "cell_type": "markdown",
   "metadata": {},
   "source": [
    "### 1. - Presentation of the data (Prevent-AD / CONP)\n",
    "\n",
    "#### 1.1 - Preparation for data download\n",
    "\n",
    "The data used for this project is taken from the Prevent-AD cohort, the data for which is part of the Canadian Open Neuroscience Platform (CONP). The data is accessible [here](https://portal.conp.ca/dataset?id=projects/preventad-open). Note that an account is required for accessing the data. You can gain access by filling the form [here](https://openpreventad.loris.ca/). If you are using your own dataset with fMRIPrep, you can skip ahead to section 2.0 of the tutorial.\n",
    "\n",
    "You can refer to the instructions on the CONP/Prevent-AD for how to download the data. Note that you will require the following to be able to install the dataset on your workstation:\n",
    "- Datalad (you can install Datalad from this [link](http://handbook.datalad.org/en/latest/intro/installation.html)\n",
    "- Git-annex (you can install Git-Annex from this [link](https://git-annex.branchable.com/install/)\n",
    "- Homebrew (in the case where you can't install Git-annex with Conda and you use a Mac, as was my case, you can install it using Homebrew. You can install Homebrew from this [link](https://brew.sh/)\n",
    "\n",
    "With Datalad, you gain access to the full dataset through symbolic links. This means that you will have access to the folders and be able to see what you can download before downloading any actual data. You will need to enter your credentials for the Open PREVENT-AD initiative to download and work with anything. \n",
    "\n",
    "**Be careful:** Note that the full dataset is quite heavy (170.89GB). Datalad gives an option to download all subjects, but only subjects/sessions of interest should be downloaded.\n",
    "\n",
    "The commands used in bash to download the data are provided below for illustration purposes:"
   ]
  },
  {
   "cell_type": "code",
   "execution_count": 8,
   "metadata": {},
   "outputs": [
    {
     "name": "stdout",
     "output_type": "stream",
     "text": [
      "/Users/stong3/Desktop/data_CONP\n",
      "/Users/stong3/Desktop/data_CONP/conp-dataset\n",
      "/Users/stong3/Desktop/data_CONP/conp-dataset/projects/preventad-open\n",
      "\u001b[34m1004359\u001b[m\u001b[m   \u001b[34m2424540\u001b[m\u001b[m   \u001b[34m3408795\u001b[m\u001b[m   \u001b[34m4396879\u001b[m\u001b[m   \u001b[34m5456920\u001b[m\u001b[m   \u001b[34m6788676\u001b[m\u001b[m   \u001b[34m7917918\u001b[m\u001b[m   \u001b[34m9522570\u001b[m\u001b[m\r\n",
      "\u001b[34m1016072\u001b[m\u001b[m   \u001b[34m2448082\u001b[m\u001b[m   \u001b[34m3452929\u001b[m\u001b[m   \u001b[34m4437799\u001b[m\u001b[m   \u001b[34m5458966\u001b[m\u001b[m   \u001b[34m6794127\u001b[m\u001b[m   \u001b[34m7945015\u001b[m\u001b[m   \u001b[34m9539210\u001b[m\u001b[m\r\n",
      "\u001b[34m1031654\u001b[m\u001b[m   \u001b[34m2484374\u001b[m\u001b[m   \u001b[34m3455156\u001b[m\u001b[m   \u001b[34m4498598\u001b[m\u001b[m   \u001b[34m5558904\u001b[m\u001b[m   \u001b[34m6795892\u001b[m\u001b[m   \u001b[34m8019820\u001b[m\u001b[m   \u001b[34m9555827\u001b[m\u001b[m\r\n",
      "\u001b[34m1072774\u001b[m\u001b[m   \u001b[34m2496306\u001b[m\u001b[m   \u001b[34m3463254\u001b[m\u001b[m   \u001b[34m4532706\u001b[m\u001b[m   \u001b[34m5562282\u001b[m\u001b[m   \u001b[34m6851811\u001b[m\u001b[m   \u001b[34m8036701\u001b[m\u001b[m   \u001b[34m9566680\u001b[m\u001b[m\r\n",
      "\u001b[34m1076159\u001b[m\u001b[m   \u001b[34m2623146\u001b[m\u001b[m   \u001b[34m3475739\u001b[m\u001b[m   \u001b[34m4538817\u001b[m\u001b[m   \u001b[34m5692079\u001b[m\u001b[m   \u001b[34m6852929\u001b[m\u001b[m   \u001b[34m8120729\u001b[m\u001b[m   \u001b[34m9584420\u001b[m\u001b[m\r\n",
      "\u001b[34m1154932\u001b[m\u001b[m   \u001b[34m2631883\u001b[m\u001b[m   \u001b[34m3525262\u001b[m\u001b[m   \u001b[34m4541749\u001b[m\u001b[m   \u001b[34m5707288\u001b[m\u001b[m   \u001b[34m6865719\u001b[m\u001b[m   \u001b[34m8351740\u001b[m\u001b[m   \u001b[34m9605091\u001b[m\u001b[m\r\n",
      "\u001b[34m1176949\u001b[m\u001b[m   \u001b[34m2663318\u001b[m\u001b[m   \u001b[34m3531206\u001b[m\u001b[m   \u001b[34m4604101\u001b[m\u001b[m   \u001b[34m5730499\u001b[m\u001b[m   \u001b[34m6909468\u001b[m\u001b[m   \u001b[34m8389790\u001b[m\u001b[m   \u001b[34m9650197\u001b[m\u001b[m\r\n",
      "\u001b[34m1177880\u001b[m\u001b[m   \u001b[34m2738676\u001b[m\u001b[m   \u001b[34m3594014\u001b[m\u001b[m   \u001b[34m4628515\u001b[m\u001b[m   \u001b[34m5774407\u001b[m\u001b[m   \u001b[34m7055352\u001b[m\u001b[m   \u001b[34m8445201\u001b[m\u001b[m   \u001b[34m9690995\u001b[m\u001b[m\r\n",
      "\u001b[34m1263509\u001b[m\u001b[m   \u001b[34m2757160\u001b[m\u001b[m   \u001b[34m3619481\u001b[m\u001b[m   \u001b[34m4652225\u001b[m\u001b[m   \u001b[34m5817042\u001b[m\u001b[m   \u001b[34m7098391\u001b[m\u001b[m   \u001b[34m8469881\u001b[m\u001b[m   \u001b[34m9742226\u001b[m\u001b[m\r\n",
      "\u001b[34m1284264\u001b[m\u001b[m   \u001b[34m2823276\u001b[m\u001b[m   \u001b[34m3692881\u001b[m\u001b[m   \u001b[34m4676902\u001b[m\u001b[m   \u001b[34m5836679\u001b[m\u001b[m   \u001b[34m7125565\u001b[m\u001b[m   \u001b[34m8477651\u001b[m\u001b[m   \u001b[34m9742435\u001b[m\u001b[m\r\n",
      "\u001b[34m1322140\u001b[m\u001b[m   \u001b[34m2843957\u001b[m\u001b[m   \u001b[34m3697357\u001b[m\u001b[m   \u001b[34m4696223\u001b[m\u001b[m   \u001b[34m5984591\u001b[m\u001b[m   \u001b[34m7161471\u001b[m\u001b[m   \u001b[34m8478383\u001b[m\u001b[m   \u001b[34m9748277\u001b[m\u001b[m\r\n",
      "\u001b[34m1346022\u001b[m\u001b[m   \u001b[34m2864260\u001b[m\u001b[m   \u001b[34m3705605\u001b[m\u001b[m   \u001b[34m4715777\u001b[m\u001b[m   \u001b[34m5985051\u001b[m\u001b[m   \u001b[34m7178383\u001b[m\u001b[m   \u001b[34m8741617\u001b[m\u001b[m   \u001b[34m9769696\u001b[m\u001b[m\r\n",
      "\u001b[34m1369125\u001b[m\u001b[m   \u001b[34m2887681\u001b[m\u001b[m   \u001b[34m3737955\u001b[m\u001b[m   \u001b[34m4718998\u001b[m\u001b[m   \u001b[34m6008569\u001b[m\u001b[m   \u001b[34m7237992\u001b[m\u001b[m   \u001b[34m8822042\u001b[m\u001b[m   \u001b[34m9779747\u001b[m\u001b[m\r\n",
      "\u001b[34m1404211\u001b[m\u001b[m   \u001b[34m2924615\u001b[m\u001b[m   \u001b[34m3756689\u001b[m\u001b[m   \u001b[34m4806541\u001b[m\u001b[m   \u001b[34m6161064\u001b[m\u001b[m   \u001b[34m7243782\u001b[m\u001b[m   \u001b[34m8889872\u001b[m\u001b[m   \u001b[34m9827494\u001b[m\u001b[m\r\n",
      "\u001b[34m1438245\u001b[m\u001b[m   \u001b[34m2963960\u001b[m\u001b[m   \u001b[34m3974587\u001b[m\u001b[m   \u001b[34m4814589\u001b[m\u001b[m   \u001b[34m6187101\u001b[m\u001b[m   \u001b[34m7492583\u001b[m\u001b[m   \u001b[34m8916796\u001b[m\u001b[m   \u001b[34m9843864\u001b[m\u001b[m\r\n",
      "\u001b[34m1443924\u001b[m\u001b[m   \u001b[34m3017785\u001b[m\u001b[m   \u001b[34m4040157\u001b[m\u001b[m   \u001b[34m4847131\u001b[m\u001b[m   \u001b[34m6245599\u001b[m\u001b[m   \u001b[34m7499557\u001b[m\u001b[m   \u001b[34m8969699\u001b[m\u001b[m   \u001b[34m9865768\u001b[m\u001b[m\r\n",
      "\u001b[34m1527281\u001b[m\u001b[m   \u001b[34m3047136\u001b[m\u001b[m   \u001b[34m4052945\u001b[m\u001b[m   \u001b[34m4943065\u001b[m\u001b[m   \u001b[34m6265998\u001b[m\u001b[m   \u001b[34m7512043\u001b[m\u001b[m   \u001b[34m9006164\u001b[m\u001b[m   \u001b[34m9870694\u001b[m\u001b[m\r\n",
      "\u001b[34m1626987\u001b[m\u001b[m   \u001b[34m3048898\u001b[m\u001b[m   \u001b[34m4067832\u001b[m\u001b[m   \u001b[34m4960454\u001b[m\u001b[m   \u001b[34m6350639\u001b[m\u001b[m   \u001b[34m7550757\u001b[m\u001b[m   \u001b[34m9023102\u001b[m\u001b[m   \u001b[34m9889544\u001b[m\u001b[m\r\n",
      "\u001b[34m1635604\u001b[m\u001b[m   \u001b[34m3084846\u001b[m\u001b[m   \u001b[34m4091474\u001b[m\u001b[m   \u001b[34m5013589\u001b[m\u001b[m   \u001b[34m6360867\u001b[m\u001b[m   \u001b[34m7568597\u001b[m\u001b[m   \u001b[34m9023841\u001b[m\u001b[m   \u001b[34m9909448\u001b[m\u001b[m\r\n",
      "\u001b[34m1711090\u001b[m\u001b[m   \u001b[34m3102543\u001b[m\u001b[m   \u001b[34m4101394\u001b[m\u001b[m   \u001b[34m5030375\u001b[m\u001b[m   \u001b[34m6395760\u001b[m\u001b[m   \u001b[34m7606018\u001b[m\u001b[m   \u001b[34m9026274\u001b[m\u001b[m   \u001b[34m9930257\u001b[m\u001b[m\r\n",
      "\u001b[34m1784075\u001b[m\u001b[m   \u001b[34m3137570\u001b[m\u001b[m   \u001b[34m4135058\u001b[m\u001b[m   \u001b[34m5158901\u001b[m\u001b[m   \u001b[34m6404099\u001b[m\u001b[m   \u001b[34m7620567\u001b[m\u001b[m   \u001b[34m9042627\u001b[m\u001b[m   \u001b[34m9931234\u001b[m\u001b[m\r\n",
      "\u001b[34m1966913\u001b[m\u001b[m   \u001b[34m3165520\u001b[m\u001b[m   \u001b[34m4169074\u001b[m\u001b[m   \u001b[34m5160587\u001b[m\u001b[m   \u001b[34m6424373\u001b[m\u001b[m   \u001b[34m7658420\u001b[m\u001b[m   \u001b[34m9053120\u001b[m\u001b[m   \u001b[34m9939055\u001b[m\u001b[m\r\n",
      "\u001b[34m1984879\u001b[m\u001b[m   \u001b[34m3169275\u001b[m\u001b[m   \u001b[34m4200389\u001b[m\u001b[m   \u001b[34m5181071\u001b[m\u001b[m   \u001b[34m6433158\u001b[m\u001b[m   \u001b[34m7658604\u001b[m\u001b[m   \u001b[34m9125564\u001b[m\u001b[m   DATS.json\r\n",
      "\u001b[34m2017146\u001b[m\u001b[m   \u001b[34m3191214\u001b[m\u001b[m   \u001b[34m4210489\u001b[m\u001b[m   \u001b[34m5184448\u001b[m\u001b[m   \u001b[34m6445003\u001b[m\u001b[m   \u001b[34m7672530\u001b[m\u001b[m   \u001b[34m9155520\u001b[m\u001b[m   README.md\r\n",
      "\u001b[34m2111048\u001b[m\u001b[m   \u001b[34m3195342\u001b[m\u001b[m   \u001b[34m4280226\u001b[m\u001b[m   \u001b[34m5219094\u001b[m\u001b[m   \u001b[34m6519252\u001b[m\u001b[m   \u001b[34m7678521\u001b[m\u001b[m   \u001b[34m9191774\u001b[m\u001b[m   logo.png\r\n",
      "\u001b[34m2137252\u001b[m\u001b[m   \u001b[34m3230637\u001b[m\u001b[m   \u001b[34m4317780\u001b[m\u001b[m   \u001b[34m5261010\u001b[m\u001b[m   \u001b[34m6605596\u001b[m\u001b[m   \u001b[34m7755697\u001b[m\u001b[m   \u001b[34m9249727\u001b[m\u001b[m\r\n",
      "\u001b[34m2161762\u001b[m\u001b[m   \u001b[34m3276299\u001b[m\u001b[m   \u001b[34m4329125\u001b[m\u001b[m   \u001b[34m5352582\u001b[m\u001b[m   \u001b[34m6690963\u001b[m\u001b[m   \u001b[34m7760229\u001b[m\u001b[m   \u001b[34m9327302\u001b[m\u001b[m\r\n",
      "\u001b[34m2332918\u001b[m\u001b[m   \u001b[34m3301724\u001b[m\u001b[m   \u001b[34m4351499\u001b[m\u001b[m   \u001b[34m5353353\u001b[m\u001b[m   \u001b[34m6704921\u001b[m\u001b[m   \u001b[34m7819541\u001b[m\u001b[m   \u001b[34m9360002\u001b[m\u001b[m\r\n",
      "\u001b[34m2336041\u001b[m\u001b[m   \u001b[34m3343577\u001b[m\u001b[m   \u001b[34m4360628\u001b[m\u001b[m   \u001b[34m5360989\u001b[m\u001b[m   \u001b[34m6743559\u001b[m\u001b[m   \u001b[34m7855613\u001b[m\u001b[m   \u001b[34m9466302\u001b[m\u001b[m\r\n",
      "\u001b[34m2345993\u001b[m\u001b[m   \u001b[34m3360165\u001b[m\u001b[m   \u001b[34m4365974\u001b[m\u001b[m   \u001b[34m5452448\u001b[m\u001b[m   \u001b[34m6781586\u001b[m\u001b[m   \u001b[34m7863306\u001b[m\u001b[m   \u001b[34m9488568\u001b[m\u001b[m\r\n"
     ]
    }
   ],
   "source": [
    "#Move to the directory where you want to download the data (I created a special folder called data_CONP/)\n",
    "\n",
    "%cd /Users/stong3/Desktop/data_CONP/\n",
    "#!datalad install https://github.com/CONP-PCNO/conp-dataset.git\n",
    "\n",
    "#Once installed, you can go in the directory and install the Prevent-AD dataset\n",
    "%cd /Users/stong3/Desktop/data_CONP/conp-dataset/\n",
    "#!datalad install projects/preventad-open\n",
    "\n",
    "#You can now navigate to the project directory\n",
    "%cd /Users/stong3/Desktop/data_CONP/conp-dataset/projects/preventad-open/\n",
    "\n",
    "#You should be able to see the list of subjects within the project\n",
    "!ls"
   ]
  },
  {
   "cell_type": "markdown",
   "metadata": {},
   "source": [
    "#### 1.2 - Data download\n",
    "\n",
    "We can now see that we can access all the subjects within the Prevent-AD project. All the subjects are divided in the following manner: \n",
    "(INSERT IMAGE FROM SITE HERE)\n",
    "\n",
    "For this pre-processing tutorial, we will only use 10 subjects from whom we have the Baseline and the 12 months follow-up. In total, we will have 20 fMRI scans to pre-process. For simplicity, I took the first 10 subjects where:\n",
    "- An anatomical scan (T1w) was available at baseline\n",
    "- A resting-state functional MRI (rest BOLD) was available at baseline\n",
    "- An anatomical scan (T1w) was available at 12 months\n",
    "- A resting-state functional MRI (rest BOLD) was available at 12 months\n",
    "\n",
    "The way Datalad downloads data is by using the following command: ```datalad get <filepath>```. \n",
    "\n",
    "In our case, based on the folders, we will require the following subjects (datalad commands below) and will only download these to reduce the data to analyze:\n",
    "- 1004359 (Done) \n",
    "```/Users/stong3/Desktop/data_CONP/conp-dataset/projects/preventad-open/1004359/```\n",
    "- 1016072 (Done) \n",
    "```/Users/stong3/Desktop/data_CONP/conp-dataset/projects/preventad-open/1016072/```\n",
    "- 1072774 (Done) \n",
    "```/Users/stong3/Desktop/data_CONP/conp-dataset/projects/preventad-open/1072774/```\n",
    "- 1076159 (Done) \n",
    "```/Users/stong3/Desktop/data_CONP/conp-dataset/projects/preventad-open/1076159/```\n",
    "- 1154932 (Done)\n",
    "```/Users/stong3/Desktop/data_CONP/conp-dataset/projects/preventad-open/1154932/```\n",
    "- 1176949 (Done)\n",
    "```/Users/stong3/Desktop/data_CONP/conp-dataset/projects/preventad-open/1176949/```\n",
    "- 1177880 (Done)\n",
    "```/Users/stong3/Desktop/data_CONP/conp-dataset/projects/preventad-open/1177880/```\n",
    "- 1284264 (Done)\n",
    "```/Users/stong3/Desktop/data_CONP/conp-dataset/projects/preventad-open/1284264/```\n",
    "- 1322140 (Done)\n",
    "```/Users/stong3/Desktop/data_CONP/conp-dataset/projects/preventad-open/1322140/```\n",
    "- 1346022 (Done)\n",
    "```/Users/stong3/Desktop/data_CONP/conp-dataset/projects/preventad-open/1346022/```\n",
    "\n",
    "The first time this is done, there will be a prompt to enter a username and password (twice). These are the same as the ones create to access LORIS."
   ]
  },
  {
   "cell_type": "code",
   "execution_count": null,
   "metadata": {},
   "outputs": [],
   "source": []
  },
  {
   "cell_type": "code",
   "execution_count": null,
   "metadata": {},
   "outputs": [],
   "source": []
  },
  {
   "cell_type": "code",
   "execution_count": null,
   "metadata": {},
   "outputs": [],
   "source": []
  },
  {
   "cell_type": "code",
   "execution_count": null,
   "metadata": {},
   "outputs": [],
   "source": []
  },
  {
   "cell_type": "code",
   "execution_count": null,
   "metadata": {},
   "outputs": [],
   "source": []
  },
  {
   "cell_type": "code",
   "execution_count": null,
   "metadata": {},
   "outputs": [],
   "source": []
  },
  {
   "cell_type": "code",
   "execution_count": null,
   "metadata": {},
   "outputs": [],
   "source": []
  },
  {
   "cell_type": "code",
   "execution_count": null,
   "metadata": {},
   "outputs": [],
   "source": []
  },
  {
   "cell_type": "code",
   "execution_count": null,
   "metadata": {},
   "outputs": [],
   "source": []
  },
  {
   "cell_type": "code",
   "execution_count": null,
   "metadata": {},
   "outputs": [],
   "source": []
  },
  {
   "cell_type": "code",
   "execution_count": null,
   "metadata": {},
   "outputs": [],
   "source": []
  },
  {
   "cell_type": "code",
   "execution_count": null,
   "metadata": {},
   "outputs": [],
   "source": []
  },
  {
   "cell_type": "code",
   "execution_count": null,
   "metadata": {},
   "outputs": [],
   "source": []
  },
  {
   "cell_type": "code",
   "execution_count": null,
   "metadata": {},
   "outputs": [],
   "source": []
  }
 ],
 "metadata": {
  "kernelspec": {
   "display_name": "Python 3.7.4 64-bit ('base': conda)",
   "language": "python",
   "name": "python37464bitbasecondac9b5ed61f5c54c1fafa453bcab913e9f"
  },
  "language_info": {
   "codemirror_mode": {
    "name": "ipython",
    "version": 3
   },
   "file_extension": ".py",
   "mimetype": "text/x-python",
   "name": "python",
   "nbconvert_exporter": "python",
   "pygments_lexer": "ipython3",
   "version": "3.7.6"
  }
 },
 "nbformat": 4,
 "nbformat_minor": 4
}
