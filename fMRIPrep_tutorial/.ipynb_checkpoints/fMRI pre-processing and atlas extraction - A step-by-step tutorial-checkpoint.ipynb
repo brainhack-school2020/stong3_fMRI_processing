{
 "cells": [
  {
   "cell_type": "markdown",
   "metadata": {},
   "source": [
    "# fMRI pre-processing and atlas extraction\n",
    "## A step-by-step tutorial\n",
    "________________\n",
    "\n",
    "\n",
    "This project was done during the Brain Hack School 2020 organized by McGill University, University of Montreal, Concordia University and Polytechnique. \n",
    "\n",
    "The goal of this tutorial is to generate functional connectivity matrices from functional magnetic resonance imaging (fMRI) starting from nifti images in BIDS format. The proposed pipeline first uses fMRIPrep to execute the pre-processing. Then, the Nilearn package is used to extract connectivity matrices from the pre-processed images using different brain parcellations. \n",
    "\n",
    "This project will be executed with data from the PREVENT-AD, a dataset of participants at risk of Alzheimer's Disease (AD), available openly on the Canadian Open Neuroscience Platform. We will use fMRI data from 10 participants at two different timepoints, at their baseline visit and at their 12 months visit, to obtain two functional connectivity matrices per participants.\n",
    "________________\n"
   ]
  },
  {
   "cell_type": "markdown",
   "metadata": {},
   "source": [
    "## Breakdown of the tutorial\n",
    "### 1.0 - Presentation of the data (Prevent-AD / CONP)\n",
    "### 2.0 - Preparation of the data for fMRIPrep\n",
    "### 3.0 - Verifying the outputs of the preprocessing\n",
    "### 4.0 - Preparing the data for Nilearn extraction"
   ]
  },
  {
   "cell_type": "markdown",
   "metadata": {},
   "source": []
  },
  {
   "cell_type": "code",
   "execution_count": null,
   "metadata": {},
   "outputs": [],
   "source": []
  },
  {
   "cell_type": "code",
   "execution_count": null,
   "metadata": {},
   "outputs": [],
   "source": []
  },
  {
   "cell_type": "code",
   "execution_count": null,
   "metadata": {},
   "outputs": [],
   "source": []
  },
  {
   "cell_type": "code",
   "execution_count": null,
   "metadata": {},
   "outputs": [],
   "source": []
  },
  {
   "cell_type": "code",
   "execution_count": null,
   "metadata": {},
   "outputs": [],
   "source": []
  },
  {
   "cell_type": "code",
   "execution_count": null,
   "metadata": {},
   "outputs": [],
   "source": []
  },
  {
   "cell_type": "code",
   "execution_count": null,
   "metadata": {},
   "outputs": [],
   "source": []
  },
  {
   "cell_type": "code",
   "execution_count": null,
   "metadata": {},
   "outputs": [],
   "source": []
  },
  {
   "cell_type": "code",
   "execution_count": null,
   "metadata": {},
   "outputs": [],
   "source": []
  },
  {
   "cell_type": "code",
   "execution_count": null,
   "metadata": {},
   "outputs": [],
   "source": []
  },
  {
   "cell_type": "code",
   "execution_count": null,
   "metadata": {},
   "outputs": [],
   "source": []
  },
  {
   "cell_type": "code",
   "execution_count": null,
   "metadata": {},
   "outputs": [],
   "source": []
  },
  {
   "cell_type": "code",
   "execution_count": null,
   "metadata": {},
   "outputs": [],
   "source": []
  },
  {
   "cell_type": "code",
   "execution_count": null,
   "metadata": {},
   "outputs": [],
   "source": []
  },
  {
   "cell_type": "code",
   "execution_count": null,
   "metadata": {},
   "outputs": [],
   "source": []
  },
  {
   "cell_type": "code",
   "execution_count": null,
   "metadata": {},
   "outputs": [],
   "source": []
  }
 ],
 "metadata": {
  "kernelspec": {
   "display_name": "Python 3.7.4 64-bit ('base': conda)",
   "language": "python",
   "name": "python37464bitbasecondac9b5ed61f5c54c1fafa453bcab913e9f"
  },
  "language_info": {
   "codemirror_mode": {
    "name": "ipython",
    "version": 3
   },
   "file_extension": ".py",
   "mimetype": "text/x-python",
   "name": "python",
   "nbconvert_exporter": "python",
   "pygments_lexer": "ipython3",
   "version": "3.7.6"
  }
 },
 "nbformat": 4,
 "nbformat_minor": 4
}
